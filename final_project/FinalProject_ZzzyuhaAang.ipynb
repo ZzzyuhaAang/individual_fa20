{
 "cells": [
  {
   "cell_type": "markdown",
   "metadata": {},
   "source": [
    "# COGS 108 - Final Project "
   ]
  },
  {
   "cell_type": "markdown",
   "metadata": {},
   "source": [
    "# Overview"
   ]
  },
  {
   "cell_type": "markdown",
   "metadata": {},
   "source": [
    "My research question is \"Do people who have a dog have more positive fellings for city parks than those people who do not have dogs?\".\\\n",
    "The purpose of this project is to give some suggestions to San Diego government for their futrue plans of city parks construction.\\\n",
    "In this project, I use the dataset of yelp reviews for San Diego parks.\n",
    "In my analysis, I use and Sentiment Analysis and TF-IDF to analyze the data.\n",
    "The result of this project does not meet my hypothesis.\\\n",
    "People who have a dog do not have more positive fellings for city parks than those people who do not have dogs. They are pretty similar"
   ]
  },
  {
   "cell_type": "markdown",
   "metadata": {},
   "source": [
    "# Name & GitHub ID\n",
    "\n",
    "- Name: Yuhang Zhao\n",
    "- GitHub Username: ZzzyuhaAang"
   ]
  },
  {
   "cell_type": "markdown",
   "metadata": {},
   "source": [
    "# Research Question"
   ]
  },
  {
   "cell_type": "markdown",
   "metadata": {},
   "source": [
    "Do people who have a dog have more positive fellings for parks than those people who do not have a dogs?"
   ]
  },
  {
   "cell_type": "markdown",
   "metadata": {},
   "source": [
    "## Background and Prior Work"
   ]
  },
  {
   "cell_type": "markdown",
   "metadata": {},
   "source": [
    "Nowadays, city park is a great place to hang out for citizens in their spare time. In parks, people enjoy getting close to the naturein parks with friends and families. There are some beautiful parks in San Diego. Some of them have special dog areas and provide some basic pet facilities. From the survey about pets population in San Diego, there is still a great amount of people who owns a dog or other kind of pets in San Diego. Nearly half of the families own a pet at home. They also need a place to walk their pets. If there are some special parks with dog area, it will be more attractive for those people to go to parks. Therefore, I want to know if people who own a dog will have more positive feelings for parks. If people who have a dog are indeed more willing to go to parks, San Diego government can pay more attention to the construction of some specail dog areas in city parks.\n",
    "\n",
    "There are some exsiting projects around this topic:\n",
    "In the report, \"Dog walkers’ vs. other park visitors’ perceptions\", the thoughts of ordinary visitors and of those pets owners are compared. This report indicates that some of those facilities in parks are non-useable.<br>\n",
    "Also, in \"A tail of tails: The place of dog parks in the urban imaginary\", authors use Kansas city as an example to explore the relationship between dog parks and other ubran areas.\n",
    "\n",
    "\n",
    "\n",
    "\n",
    "\n",
    "References:\n",
    "- 1)Dog walkers’ vs. other park visitors’ perceptions: The importance of planning sustainable urban parks in Bucharest, Romania.<br>https://doi.org/10.1016/j.landurbplan.2011.06.002\n",
    "- 2)A tail of tails: The place of dog parks in the urban imaginary.<br>https://doi.org/10.1016/j.geoforum.2012.08.001\n",
    "- 3)San Diego County Survey and analysis of the pet population.<br>http://www.theanimalcouncil.com/files/NPA_1995SanDiego.pdf"
   ]
  },
  {
   "cell_type": "markdown",
   "metadata": {},
   "source": [
    "# Hypothesis\n"
   ]
  },
  {
   "cell_type": "markdown",
   "metadata": {},
   "source": [
    "People who have a dog have more positive fellings for city parks than those people who do not have a dog.\\\n",
    "For those people who own a god, they are more likely to go parks since they have the demand to walk their dogs. And city park is a perfect place for them to walk dogs. In addition, some parks with special dog areas will make them feel welcomed.\\\n",
    "Therefore, people who own a dog are more willing to go to parks and have more positive feelings than those people who do not own a dog."
   ]
  },
  {
   "cell_type": "markdown",
   "metadata": {},
   "source": [
    "# Dataset(s)"
   ]
  },
  {
   "cell_type": "markdown",
   "metadata": {},
   "source": [
    "- Dataset Name: Yelp Data for San Diego Parks Reviews\n",
    "- Link to the dataset: https://raw.githubusercontent.com/COGS108/individual_fa20/master/data/yelp_SD_reviews.csv\n",
    "- Number of observations: 2333\n",
    "\n",
    "I plan to use the yelp reviews dataset for San Diego Parks.\n",
    "This dataset include a lot of reviews and rating scores from citizens for different San Diego city parks. I can use this dataset to see how citizens feel about those city parks in general."
   ]
  },
  {
   "cell_type": "markdown",
   "metadata": {},
   "source": [
    "# Setup"
   ]
  },
  {
   "cell_type": "code",
   "execution_count": 1,
   "metadata": {},
   "outputs": [],
   "source": [
    "import numpy as np\n",
    "import pandas as pd\n",
    "import matplotlib.pyplot as plt\n",
    "import seaborn as sns\n",
    "\n",
    "# Import nltk package \n",
    "import nltk\n",
    "from nltk.tokenize import word_tokenize\n",
    "from nltk.corpus import stopwords\n",
    "from nltk.stem import PorterStemmer\n",
    "from nltk.probability import FreqDist\n",
    "from nltk.sentiment.vader import SentimentIntensityAnalyzer\n",
    "\n",
    "import string\n",
    "\n",
    "import warnings\n",
    "warnings.filterwarnings('ignore')\n",
    "\n",
    "from sklearn.svm import SVC\n",
    "from sklearn.feature_extraction.text import TfidfVectorizer"
   ]
  },
  {
   "cell_type": "code",
   "execution_count": 2,
   "metadata": {},
   "outputs": [
    {
     "name": "stderr",
     "output_type": "stream",
     "text": [
      "[nltk_data] Downloading package vader_lexicon to\n",
      "[nltk_data]     /Users/zyh/nltk_data...\n",
      "[nltk_data]   Package vader_lexicon is already up-to-date!\n",
      "[nltk_data] Downloading package stopwords to /Users/zyh/nltk_data...\n",
      "[nltk_data]   Package stopwords is already up-to-date!\n"
     ]
    },
    {
     "data": {
      "text/plain": [
       "True"
      ]
     },
     "execution_count": 2,
     "metadata": {},
     "output_type": "execute_result"
    }
   ],
   "source": [
    "## Download the NLTK English tokenizer and the stopwords of all languages\n",
    "nltk.download('vader_lexicon')\n",
    "nltk.download('stopwords')"
   ]
  },
  {
   "cell_type": "markdown",
   "metadata": {},
   "source": [
    "# Data Cleaning"
   ]
  },
  {
   "cell_type": "markdown",
   "metadata": {},
   "source": [
    "Column names in this dataset are simple and clear enough. Therefore, I do not need to rename them.\\\n",
    "However, I plan to rename them in a more clear way to see what content they represent.\n",
    "Also, I do not have to remove missing data because there are no missing data in this data set.\\\n",
    "In addition, all data within the 'id' and 'rating' columns do not need standardization."
   ]
  },
  {
   "cell_type": "code",
   "execution_count": 3,
   "metadata": {},
   "outputs": [
    {
     "data": {
      "text/html": [
       "<div>\n",
       "<style scoped>\n",
       "    .dataframe tbody tr th:only-of-type {\n",
       "        vertical-align: middle;\n",
       "    }\n",
       "\n",
       "    .dataframe tbody tr th {\n",
       "        vertical-align: top;\n",
       "    }\n",
       "\n",
       "    .dataframe thead th {\n",
       "        text-align: right;\n",
       "    }\n",
       "</style>\n",
       "<table border=\"1\" class=\"dataframe\">\n",
       "  <thead>\n",
       "    <tr style=\"text-align: right;\">\n",
       "      <th></th>\n",
       "      <th>id</th>\n",
       "      <th>rating</th>\n",
       "      <th>text</th>\n",
       "    </tr>\n",
       "  </thead>\n",
       "  <tbody>\n",
       "    <tr>\n",
       "      <th>0</th>\n",
       "      <td>Balboa Park</td>\n",
       "      <td>5</td>\n",
       "      <td>Balboa Park is a must see when coming to San D...</td>\n",
       "    </tr>\n",
       "    <tr>\n",
       "      <th>1</th>\n",
       "      <td>Balboa Park</td>\n",
       "      <td>5</td>\n",
       "      <td>Beautiful grounds even to take a stroll during...</td>\n",
       "    </tr>\n",
       "    <tr>\n",
       "      <th>2</th>\n",
       "      <td>Balboa Park</td>\n",
       "      <td>5</td>\n",
       "      <td>Beautiful sightseeing in San Diego. Lots of wa...</td>\n",
       "    </tr>\n",
       "    <tr>\n",
       "      <th>3</th>\n",
       "      <td>Civita Park</td>\n",
       "      <td>5</td>\n",
       "      <td>Was invited to child's B-Day party pre Covid-1...</td>\n",
       "    </tr>\n",
       "    <tr>\n",
       "      <th>4</th>\n",
       "      <td>Civita Park</td>\n",
       "      <td>5</td>\n",
       "      <td>Pretty nice park, beautiful design.  Anyone is...</td>\n",
       "    </tr>\n",
       "  </tbody>\n",
       "</table>\n",
       "</div>"
      ],
      "text/plain": [
       "            id  rating                                               text\n",
       "0  Balboa Park       5  Balboa Park is a must see when coming to San D...\n",
       "1  Balboa Park       5  Beautiful grounds even to take a stroll during...\n",
       "2  Balboa Park       5  Beautiful sightseeing in San Diego. Lots of wa...\n",
       "3  Civita Park       5  Was invited to child's B-Day party pre Covid-1...\n",
       "4  Civita Park       5  Pretty nice park, beautiful design.  Anyone is..."
      ]
     },
     "execution_count": 3,
     "metadata": {},
     "output_type": "execute_result"
    }
   ],
   "source": [
    "## Load the dataset\n",
    "df_reviews = pd.read_csv('yelp_SD_reviews.csv')\n",
    "\n",
    "## Preview the data in the dataset\n",
    "df_reviews.head(5)"
   ]
  },
  {
   "cell_type": "code",
   "execution_count": 4,
   "metadata": {},
   "outputs": [
    {
     "data": {
      "text/html": [
       "<div>\n",
       "<style scoped>\n",
       "    .dataframe tbody tr th:only-of-type {\n",
       "        vertical-align: middle;\n",
       "    }\n",
       "\n",
       "    .dataframe tbody tr th {\n",
       "        vertical-align: top;\n",
       "    }\n",
       "\n",
       "    .dataframe thead th {\n",
       "        text-align: right;\n",
       "    }\n",
       "</style>\n",
       "<table border=\"1\" class=\"dataframe\">\n",
       "  <thead>\n",
       "    <tr style=\"text-align: right;\">\n",
       "      <th></th>\n",
       "      <th>name</th>\n",
       "      <th>rating</th>\n",
       "      <th>review</th>\n",
       "    </tr>\n",
       "  </thead>\n",
       "  <tbody>\n",
       "    <tr>\n",
       "      <th>0</th>\n",
       "      <td>Balboa Park</td>\n",
       "      <td>5</td>\n",
       "      <td>Balboa Park is a must see when coming to San D...</td>\n",
       "    </tr>\n",
       "    <tr>\n",
       "      <th>1</th>\n",
       "      <td>Balboa Park</td>\n",
       "      <td>5</td>\n",
       "      <td>Beautiful grounds even to take a stroll during...</td>\n",
       "    </tr>\n",
       "    <tr>\n",
       "      <th>2</th>\n",
       "      <td>Balboa Park</td>\n",
       "      <td>5</td>\n",
       "      <td>Beautiful sightseeing in San Diego. Lots of wa...</td>\n",
       "    </tr>\n",
       "    <tr>\n",
       "      <th>3</th>\n",
       "      <td>Civita Park</td>\n",
       "      <td>5</td>\n",
       "      <td>Was invited to child's B-Day party pre Covid-1...</td>\n",
       "    </tr>\n",
       "    <tr>\n",
       "      <th>4</th>\n",
       "      <td>Civita Park</td>\n",
       "      <td>5</td>\n",
       "      <td>Pretty nice park, beautiful design.  Anyone is...</td>\n",
       "    </tr>\n",
       "  </tbody>\n",
       "</table>\n",
       "</div>"
      ],
      "text/plain": [
       "          name  rating                                             review\n",
       "0  Balboa Park       5  Balboa Park is a must see when coming to San D...\n",
       "1  Balboa Park       5  Beautiful grounds even to take a stroll during...\n",
       "2  Balboa Park       5  Beautiful sightseeing in San Diego. Lots of wa...\n",
       "3  Civita Park       5  Was invited to child's B-Day party pre Covid-1...\n",
       "4  Civita Park       5  Pretty nice park, beautiful design.  Anyone is..."
      ]
     },
     "execution_count": 4,
     "metadata": {},
     "output_type": "execute_result"
    }
   ],
   "source": [
    "## Rename those column names to make them more clear for viewers\n",
    "df_reviews.columns = ['name', 'rating', 'review']\n",
    "df_reviews.head(5)"
   ]
  },
  {
   "cell_type": "code",
   "execution_count": 5,
   "metadata": {},
   "outputs": [
    {
     "data": {
      "text/plain": [
       "name      0\n",
       "rating    0\n",
       "review    0\n",
       "dtype: int64"
      ]
     },
     "execution_count": 5,
     "metadata": {},
     "output_type": "execute_result"
    }
   ],
   "source": [
    "## Check if there are any missing data in the dataset\n",
    "df_reviews.isnull().sum()"
   ]
  },
  {
   "cell_type": "markdown",
   "metadata": {},
   "source": [
    "# Data Analysis & Results"
   ]
  },
  {
   "cell_type": "markdown",
   "metadata": {},
   "source": [
    "Since I am using Sentiment Analysis.\\\n",
    "The first thing I do is the Tokenization.\\\n",
    "Then I remove the the stop words in the reviews.\\\n",
    "Next, I do the stemming work, which is the lexicon normalization.\\\n",
    "Then, I get the effective and usable data.\n",
    "After all those steps, I begin to do the Sentiment Analysis throught the Lexicon-based approach."
   ]
  },
  {
   "cell_type": "code",
   "execution_count": 6,
   "metadata": {},
   "outputs": [
    {
     "data": {
      "text/html": [
       "<div>\n",
       "<style scoped>\n",
       "    .dataframe tbody tr th:only-of-type {\n",
       "        vertical-align: middle;\n",
       "    }\n",
       "\n",
       "    .dataframe tbody tr th {\n",
       "        vertical-align: top;\n",
       "    }\n",
       "\n",
       "    .dataframe thead th {\n",
       "        text-align: right;\n",
       "    }\n",
       "</style>\n",
       "<table border=\"1\" class=\"dataframe\">\n",
       "  <thead>\n",
       "    <tr style=\"text-align: right;\">\n",
       "      <th></th>\n",
       "      <th>name</th>\n",
       "      <th>rating</th>\n",
       "      <th>review</th>\n",
       "      <th>review_token</th>\n",
       "    </tr>\n",
       "  </thead>\n",
       "  <tbody>\n",
       "    <tr>\n",
       "      <th>0</th>\n",
       "      <td>Balboa Park</td>\n",
       "      <td>5</td>\n",
       "      <td>Balboa Park is a must see when coming to San D...</td>\n",
       "      <td>[Balboa, Park, is, a, must, see, when, coming,...</td>\n",
       "    </tr>\n",
       "    <tr>\n",
       "      <th>1</th>\n",
       "      <td>Balboa Park</td>\n",
       "      <td>5</td>\n",
       "      <td>Beautiful grounds even to take a stroll during...</td>\n",
       "      <td>[Beautiful, grounds, even, to, take, a, stroll...</td>\n",
       "    </tr>\n",
       "    <tr>\n",
       "      <th>2</th>\n",
       "      <td>Balboa Park</td>\n",
       "      <td>5</td>\n",
       "      <td>Beautiful sightseeing in San Diego. Lots of wa...</td>\n",
       "      <td>[Beautiful, sightseeing, in, San, Diego, ., Lo...</td>\n",
       "    </tr>\n",
       "    <tr>\n",
       "      <th>3</th>\n",
       "      <td>Civita Park</td>\n",
       "      <td>5</td>\n",
       "      <td>Was invited to child's B-Day party pre Covid-1...</td>\n",
       "      <td>[Was, invited, to, child, 's, B-Day, party, pr...</td>\n",
       "    </tr>\n",
       "    <tr>\n",
       "      <th>4</th>\n",
       "      <td>Civita Park</td>\n",
       "      <td>5</td>\n",
       "      <td>Pretty nice park, beautiful design.  Anyone is...</td>\n",
       "      <td>[Pretty, nice, park, ,, beautiful, design, ., ...</td>\n",
       "    </tr>\n",
       "  </tbody>\n",
       "</table>\n",
       "</div>"
      ],
      "text/plain": [
       "          name  rating                                             review  \\\n",
       "0  Balboa Park       5  Balboa Park is a must see when coming to San D...   \n",
       "1  Balboa Park       5  Beautiful grounds even to take a stroll during...   \n",
       "2  Balboa Park       5  Beautiful sightseeing in San Diego. Lots of wa...   \n",
       "3  Civita Park       5  Was invited to child's B-Day party pre Covid-1...   \n",
       "4  Civita Park       5  Pretty nice park, beautiful design.  Anyone is...   \n",
       "\n",
       "                                        review_token  \n",
       "0  [Balboa, Park, is, a, must, see, when, coming,...  \n",
       "1  [Beautiful, grounds, even, to, take, a, stroll...  \n",
       "2  [Beautiful, sightseeing, in, San, Diego, ., Lo...  \n",
       "3  [Was, invited, to, child, 's, B-Day, party, pr...  \n",
       "4  [Pretty, nice, park, ,, beautiful, design, ., ...  "
      ]
     },
     "execution_count": 6,
     "metadata": {},
     "output_type": "execute_result"
    }
   ],
   "source": [
    "## Tokenization\n",
    "df_reviews['review_token'] = df_reviews['review'].apply(word_tokenize)\n",
    "df_reviews.head()"
   ]
  },
  {
   "cell_type": "code",
   "execution_count": 7,
   "metadata": {},
   "outputs": [
    {
     "data": {
      "text/html": [
       "<div>\n",
       "<style scoped>\n",
       "    .dataframe tbody tr th:only-of-type {\n",
       "        vertical-align: middle;\n",
       "    }\n",
       "\n",
       "    .dataframe tbody tr th {\n",
       "        vertical-align: top;\n",
       "    }\n",
       "\n",
       "    .dataframe thead th {\n",
       "        text-align: right;\n",
       "    }\n",
       "</style>\n",
       "<table border=\"1\" class=\"dataframe\">\n",
       "  <thead>\n",
       "    <tr style=\"text-align: right;\">\n",
       "      <th></th>\n",
       "      <th>name</th>\n",
       "      <th>rating</th>\n",
       "      <th>review</th>\n",
       "      <th>review_token</th>\n",
       "      <th>review_stop</th>\n",
       "    </tr>\n",
       "  </thead>\n",
       "  <tbody>\n",
       "    <tr>\n",
       "      <th>0</th>\n",
       "      <td>Balboa Park</td>\n",
       "      <td>5</td>\n",
       "      <td>Balboa Park is a must see when coming to San D...</td>\n",
       "      <td>[Balboa, Park, is, a, must, see, when, coming,...</td>\n",
       "      <td>[Balboa, Park, must, see, coming, San, Diego, ...</td>\n",
       "    </tr>\n",
       "    <tr>\n",
       "      <th>1</th>\n",
       "      <td>Balboa Park</td>\n",
       "      <td>5</td>\n",
       "      <td>Beautiful grounds even to take a stroll during...</td>\n",
       "      <td>[Beautiful, grounds, even, to, take, a, stroll...</td>\n",
       "      <td>[Beautiful, grounds, even, take, stroll, Covid...</td>\n",
       "    </tr>\n",
       "    <tr>\n",
       "      <th>2</th>\n",
       "      <td>Balboa Park</td>\n",
       "      <td>5</td>\n",
       "      <td>Beautiful sightseeing in San Diego. Lots of wa...</td>\n",
       "      <td>[Beautiful, sightseeing, in, San, Diego, ., Lo...</td>\n",
       "      <td>[Beautiful, sightseeing, San, Diego, ., Lots, ...</td>\n",
       "    </tr>\n",
       "    <tr>\n",
       "      <th>3</th>\n",
       "      <td>Civita Park</td>\n",
       "      <td>5</td>\n",
       "      <td>Was invited to child's B-Day party pre Covid-1...</td>\n",
       "      <td>[Was, invited, to, child, 's, B-Day, party, pr...</td>\n",
       "      <td>[Was, invited, child, 's, B-Day, party, pre, C...</td>\n",
       "    </tr>\n",
       "    <tr>\n",
       "      <th>4</th>\n",
       "      <td>Civita Park</td>\n",
       "      <td>5</td>\n",
       "      <td>Pretty nice park, beautiful design.  Anyone is...</td>\n",
       "      <td>[Pretty, nice, park, ,, beautiful, design, ., ...</td>\n",
       "      <td>[Pretty, nice, park, ,, beautiful, design, ., ...</td>\n",
       "    </tr>\n",
       "  </tbody>\n",
       "</table>\n",
       "</div>"
      ],
      "text/plain": [
       "          name  rating                                             review  \\\n",
       "0  Balboa Park       5  Balboa Park is a must see when coming to San D...   \n",
       "1  Balboa Park       5  Beautiful grounds even to take a stroll during...   \n",
       "2  Balboa Park       5  Beautiful sightseeing in San Diego. Lots of wa...   \n",
       "3  Civita Park       5  Was invited to child's B-Day party pre Covid-1...   \n",
       "4  Civita Park       5  Pretty nice park, beautiful design.  Anyone is...   \n",
       "\n",
       "                                        review_token  \\\n",
       "0  [Balboa, Park, is, a, must, see, when, coming,...   \n",
       "1  [Beautiful, grounds, even, to, take, a, stroll...   \n",
       "2  [Beautiful, sightseeing, in, San, Diego, ., Lo...   \n",
       "3  [Was, invited, to, child, 's, B-Day, party, pr...   \n",
       "4  [Pretty, nice, park, ,, beautiful, design, ., ...   \n",
       "\n",
       "                                         review_stop  \n",
       "0  [Balboa, Park, must, see, coming, San, Diego, ...  \n",
       "1  [Beautiful, grounds, even, take, stroll, Covid...  \n",
       "2  [Beautiful, sightseeing, San, Diego, ., Lots, ...  \n",
       "3  [Was, invited, child, 's, B-Day, party, pre, C...  \n",
       "4  [Pretty, nice, park, ,, beautiful, design, ., ...  "
      ]
     },
     "execution_count": 7,
     "metadata": {},
     "output_type": "execute_result"
    }
   ],
   "source": [
    "## Removing stop words\n",
    "stop_words = set(stopwords.words('english'))\n",
    "df_reviews['review_stop'] = df_reviews['review_token'].apply(lambda x: [item for item in x if item not in stop_words])\n",
    "df_reviews.head()"
   ]
  },
  {
   "cell_type": "code",
   "execution_count": 8,
   "metadata": {
    "scrolled": true
   },
   "outputs": [
    {
     "data": {
      "text/html": [
       "<div>\n",
       "<style scoped>\n",
       "    .dataframe tbody tr th:only-of-type {\n",
       "        vertical-align: middle;\n",
       "    }\n",
       "\n",
       "    .dataframe tbody tr th {\n",
       "        vertical-align: top;\n",
       "    }\n",
       "\n",
       "    .dataframe thead th {\n",
       "        text-align: right;\n",
       "    }\n",
       "</style>\n",
       "<table border=\"1\" class=\"dataframe\">\n",
       "  <thead>\n",
       "    <tr style=\"text-align: right;\">\n",
       "      <th></th>\n",
       "      <th>name</th>\n",
       "      <th>rating</th>\n",
       "      <th>review</th>\n",
       "      <th>review_token</th>\n",
       "      <th>review_stop</th>\n",
       "      <th>review_stem</th>\n",
       "    </tr>\n",
       "  </thead>\n",
       "  <tbody>\n",
       "    <tr>\n",
       "      <th>0</th>\n",
       "      <td>Balboa Park</td>\n",
       "      <td>5</td>\n",
       "      <td>Balboa Park is a must see when coming to San D...</td>\n",
       "      <td>[Balboa, Park, is, a, must, see, when, coming,...</td>\n",
       "      <td>[Balboa, Park, must, see, coming, San, Diego, ...</td>\n",
       "      <td>[balboa, park, must, see, come, san, diego, .,...</td>\n",
       "    </tr>\n",
       "    <tr>\n",
       "      <th>1</th>\n",
       "      <td>Balboa Park</td>\n",
       "      <td>5</td>\n",
       "      <td>Beautiful grounds even to take a stroll during...</td>\n",
       "      <td>[Beautiful, grounds, even, to, take, a, stroll...</td>\n",
       "      <td>[Beautiful, grounds, even, take, stroll, Covid...</td>\n",
       "      <td>[beauti, ground, even, take, stroll, covid, 's...</td>\n",
       "    </tr>\n",
       "    <tr>\n",
       "      <th>2</th>\n",
       "      <td>Balboa Park</td>\n",
       "      <td>5</td>\n",
       "      <td>Beautiful sightseeing in San Diego. Lots of wa...</td>\n",
       "      <td>[Beautiful, sightseeing, in, San, Diego, ., Lo...</td>\n",
       "      <td>[Beautiful, sightseeing, San, Diego, ., Lots, ...</td>\n",
       "      <td>[beauti, sightse, san, diego, ., lot, walkway,...</td>\n",
       "    </tr>\n",
       "    <tr>\n",
       "      <th>3</th>\n",
       "      <td>Civita Park</td>\n",
       "      <td>5</td>\n",
       "      <td>Was invited to child's B-Day party pre Covid-1...</td>\n",
       "      <td>[Was, invited, to, child, 's, B-Day, party, pr...</td>\n",
       "      <td>[Was, invited, child, 's, B-Day, party, pre, C...</td>\n",
       "      <td>[wa, invit, child, 's, b-day, parti, pre, covi...</td>\n",
       "    </tr>\n",
       "    <tr>\n",
       "      <th>4</th>\n",
       "      <td>Civita Park</td>\n",
       "      <td>5</td>\n",
       "      <td>Pretty nice park, beautiful design.  Anyone is...</td>\n",
       "      <td>[Pretty, nice, park, ,, beautiful, design, ., ...</td>\n",
       "      <td>[Pretty, nice, park, ,, beautiful, design, ., ...</td>\n",
       "      <td>[pretti, nice, park, ,, beauti, design, ., any...</td>\n",
       "    </tr>\n",
       "  </tbody>\n",
       "</table>\n",
       "</div>"
      ],
      "text/plain": [
       "          name  rating                                             review  \\\n",
       "0  Balboa Park       5  Balboa Park is a must see when coming to San D...   \n",
       "1  Balboa Park       5  Beautiful grounds even to take a stroll during...   \n",
       "2  Balboa Park       5  Beautiful sightseeing in San Diego. Lots of wa...   \n",
       "3  Civita Park       5  Was invited to child's B-Day party pre Covid-1...   \n",
       "4  Civita Park       5  Pretty nice park, beautiful design.  Anyone is...   \n",
       "\n",
       "                                        review_token  \\\n",
       "0  [Balboa, Park, is, a, must, see, when, coming,...   \n",
       "1  [Beautiful, grounds, even, to, take, a, stroll...   \n",
       "2  [Beautiful, sightseeing, in, San, Diego, ., Lo...   \n",
       "3  [Was, invited, to, child, 's, B-Day, party, pr...   \n",
       "4  [Pretty, nice, park, ,, beautiful, design, ., ...   \n",
       "\n",
       "                                         review_stop  \\\n",
       "0  [Balboa, Park, must, see, coming, San, Diego, ...   \n",
       "1  [Beautiful, grounds, even, take, stroll, Covid...   \n",
       "2  [Beautiful, sightseeing, San, Diego, ., Lots, ...   \n",
       "3  [Was, invited, child, 's, B-Day, party, pre, C...   \n",
       "4  [Pretty, nice, park, ,, beautiful, design, ., ...   \n",
       "\n",
       "                                         review_stem  \n",
       "0  [balboa, park, must, see, come, san, diego, .,...  \n",
       "1  [beauti, ground, even, take, stroll, covid, 's...  \n",
       "2  [beauti, sightse, san, diego, ., lot, walkway,...  \n",
       "3  [wa, invit, child, 's, b-day, parti, pre, covi...  \n",
       "4  [pretti, nice, park, ,, beauti, design, ., any...  "
      ]
     },
     "execution_count": 8,
     "metadata": {},
     "output_type": "execute_result"
    }
   ],
   "source": [
    "## Stemming\n",
    "ps = PorterStemmer()\n",
    "\n",
    "df_reviews['review_stem'] = df_reviews['review_stop'].apply(lambda x: [ps.stem(y) for y in x])\n",
    "df_reviews.head()"
   ]
  },
  {
   "cell_type": "markdown",
   "metadata": {},
   "source": [
    "I divide this dataset into two parts by checking if they mention \"dog\" in their reviews:\\\n",
    "One part represents the group of people who have a dog and the other one represents the group of people who do not have a dog."
   ]
  },
  {
   "cell_type": "code",
   "execution_count": 9,
   "metadata": {},
   "outputs": [
    {
     "data": {
      "text/html": [
       "<div>\n",
       "<style scoped>\n",
       "    .dataframe tbody tr th:only-of-type {\n",
       "        vertical-align: middle;\n",
       "    }\n",
       "\n",
       "    .dataframe tbody tr th {\n",
       "        vertical-align: top;\n",
       "    }\n",
       "\n",
       "    .dataframe thead th {\n",
       "        text-align: right;\n",
       "    }\n",
       "</style>\n",
       "<table border=\"1\" class=\"dataframe\">\n",
       "  <thead>\n",
       "    <tr style=\"text-align: right;\">\n",
       "      <th></th>\n",
       "      <th>name</th>\n",
       "      <th>rating</th>\n",
       "      <th>review</th>\n",
       "      <th>review_token</th>\n",
       "      <th>review_stop</th>\n",
       "      <th>review_stem</th>\n",
       "    </tr>\n",
       "  </thead>\n",
       "  <tbody>\n",
       "    <tr>\n",
       "      <th>1</th>\n",
       "      <td>Balboa Park</td>\n",
       "      <td>5</td>\n",
       "      <td>Beautiful grounds even to take a stroll during...</td>\n",
       "      <td>[Beautiful, grounds, even, to, take, a, stroll...</td>\n",
       "      <td>[Beautiful, grounds, even, take, stroll, Covid...</td>\n",
       "      <td>[beauti, ground, even, take, stroll, covid, 's...</td>\n",
       "    </tr>\n",
       "    <tr>\n",
       "      <th>67</th>\n",
       "      <td>Liberty Station NTC Park</td>\n",
       "      <td>4</td>\n",
       "      <td>Beautiful space, lots of room to play with the...</td>\n",
       "      <td>[Beautiful, space, ,, lots, of, room, to, play...</td>\n",
       "      <td>[Beautiful, space, ,, lots, room, play, kids, ...</td>\n",
       "      <td>[beauti, space, ,, lot, room, play, kid, walk,...</td>\n",
       "    </tr>\n",
       "    <tr>\n",
       "      <th>94</th>\n",
       "      <td>Solana Ranch Park</td>\n",
       "      <td>5</td>\n",
       "      <td>From the outside, the park looks small, but it...</td>\n",
       "      <td>[From, the, outside, ,, the, park, looks, smal...</td>\n",
       "      <td>[From, outside, ,, park, looks, small, ,, actu...</td>\n",
       "      <td>[from, outsid, ,, park, look, small, ,, actual...</td>\n",
       "    </tr>\n",
       "    <tr>\n",
       "      <th>95</th>\n",
       "      <td>Solana Ranch Park</td>\n",
       "      <td>5</td>\n",
       "      <td>Such a great park!\\n- Toddler structure &amp; age ...</td>\n",
       "      <td>[Such, a, great, park, !, -, Toddler, structur...</td>\n",
       "      <td>[Such, great, park, !, -, Toddler, structure, ...</td>\n",
       "      <td>[such, great, park, !, -, toddler, structur, &amp;...</td>\n",
       "    </tr>\n",
       "    <tr>\n",
       "      <th>96</th>\n",
       "      <td>Mission Valley Off Leash Civita Dog Park</td>\n",
       "      <td>5</td>\n",
       "      <td>Our two huskies love coming to this park! It's...</td>\n",
       "      <td>[Our, two, huskies, love, coming, to, this, pa...</td>\n",
       "      <td>[Our, two, huskies, love, coming, park, !, It,...</td>\n",
       "      <td>[our, two, huski, love, come, park, !, It, 's,...</td>\n",
       "    </tr>\n",
       "  </tbody>\n",
       "</table>\n",
       "</div>"
      ],
      "text/plain": [
       "                                        name  rating  \\\n",
       "1                                Balboa Park       5   \n",
       "67                  Liberty Station NTC Park       4   \n",
       "94                         Solana Ranch Park       5   \n",
       "95                         Solana Ranch Park       5   \n",
       "96  Mission Valley Off Leash Civita Dog Park       5   \n",
       "\n",
       "                                               review  \\\n",
       "1   Beautiful grounds even to take a stroll during...   \n",
       "67  Beautiful space, lots of room to play with the...   \n",
       "94  From the outside, the park looks small, but it...   \n",
       "95  Such a great park!\\n- Toddler structure & age ...   \n",
       "96  Our two huskies love coming to this park! It's...   \n",
       "\n",
       "                                         review_token  \\\n",
       "1   [Beautiful, grounds, even, to, take, a, stroll...   \n",
       "67  [Beautiful, space, ,, lots, of, room, to, play...   \n",
       "94  [From, the, outside, ,, the, park, looks, smal...   \n",
       "95  [Such, a, great, park, !, -, Toddler, structur...   \n",
       "96  [Our, two, huskies, love, coming, to, this, pa...   \n",
       "\n",
       "                                          review_stop  \\\n",
       "1   [Beautiful, grounds, even, take, stroll, Covid...   \n",
       "67  [Beautiful, space, ,, lots, room, play, kids, ...   \n",
       "94  [From, outside, ,, park, looks, small, ,, actu...   \n",
       "95  [Such, great, park, !, -, Toddler, structure, ...   \n",
       "96  [Our, two, huskies, love, coming, park, !, It,...   \n",
       "\n",
       "                                          review_stem  \n",
       "1   [beauti, ground, even, take, stroll, covid, 's...  \n",
       "67  [beauti, space, ,, lot, room, play, kid, walk,...  \n",
       "94  [from, outsid, ,, park, look, small, ,, actual...  \n",
       "95  [such, great, park, !, -, toddler, structur, &...  \n",
       "96  [our, two, huski, love, come, park, !, It, 's,...  "
      ]
     },
     "execution_count": 9,
     "metadata": {},
     "output_type": "execute_result"
    }
   ],
   "source": [
    "## Divide this dataset into two parts by using keywords in reviews\n",
    "#  The group of people who have a dog\n",
    "df_withDogs = df_reviews[df_reviews['review'].str.contains('dog|dogs|pup|pups|doggie')]\n",
    "df_withDogs.head(5)"
   ]
  },
  {
   "cell_type": "code",
   "execution_count": 10,
   "metadata": {},
   "outputs": [
    {
     "data": {
      "text/html": [
       "<div>\n",
       "<style scoped>\n",
       "    .dataframe tbody tr th:only-of-type {\n",
       "        vertical-align: middle;\n",
       "    }\n",
       "\n",
       "    .dataframe tbody tr th {\n",
       "        vertical-align: top;\n",
       "    }\n",
       "\n",
       "    .dataframe thead th {\n",
       "        text-align: right;\n",
       "    }\n",
       "</style>\n",
       "<table border=\"1\" class=\"dataframe\">\n",
       "  <thead>\n",
       "    <tr style=\"text-align: right;\">\n",
       "      <th></th>\n",
       "      <th>name</th>\n",
       "      <th>rating</th>\n",
       "      <th>review</th>\n",
       "      <th>review_token</th>\n",
       "      <th>review_stop</th>\n",
       "      <th>review_stem</th>\n",
       "    </tr>\n",
       "  </thead>\n",
       "  <tbody>\n",
       "    <tr>\n",
       "      <th>0</th>\n",
       "      <td>Balboa Park</td>\n",
       "      <td>5</td>\n",
       "      <td>Balboa Park is a must see when coming to San D...</td>\n",
       "      <td>[Balboa, Park, is, a, must, see, when, coming,...</td>\n",
       "      <td>[Balboa, Park, must, see, coming, San, Diego, ...</td>\n",
       "      <td>[balboa, park, must, see, come, san, diego, .,...</td>\n",
       "    </tr>\n",
       "    <tr>\n",
       "      <th>2</th>\n",
       "      <td>Balboa Park</td>\n",
       "      <td>5</td>\n",
       "      <td>Beautiful sightseeing in San Diego. Lots of wa...</td>\n",
       "      <td>[Beautiful, sightseeing, in, San, Diego, ., Lo...</td>\n",
       "      <td>[Beautiful, sightseeing, San, Diego, ., Lots, ...</td>\n",
       "      <td>[beauti, sightse, san, diego, ., lot, walkway,...</td>\n",
       "    </tr>\n",
       "    <tr>\n",
       "      <th>3</th>\n",
       "      <td>Civita Park</td>\n",
       "      <td>5</td>\n",
       "      <td>Was invited to child's B-Day party pre Covid-1...</td>\n",
       "      <td>[Was, invited, to, child, 's, B-Day, party, pr...</td>\n",
       "      <td>[Was, invited, child, 's, B-Day, party, pre, C...</td>\n",
       "      <td>[wa, invit, child, 's, b-day, parti, pre, covi...</td>\n",
       "    </tr>\n",
       "    <tr>\n",
       "      <th>4</th>\n",
       "      <td>Civita Park</td>\n",
       "      <td>5</td>\n",
       "      <td>Pretty nice park, beautiful design.  Anyone is...</td>\n",
       "      <td>[Pretty, nice, park, ,, beautiful, design, ., ...</td>\n",
       "      <td>[Pretty, nice, park, ,, beautiful, design, ., ...</td>\n",
       "      <td>[pretti, nice, park, ,, beauti, design, ., any...</td>\n",
       "    </tr>\n",
       "    <tr>\n",
       "      <th>5</th>\n",
       "      <td>Civita Park</td>\n",
       "      <td>1</td>\n",
       "      <td>We love Civita Park for its wide open spaces t...</td>\n",
       "      <td>[We, love, Civita, Park, for, its, wide, open,...</td>\n",
       "      <td>[We, love, Civita, Park, wide, open, spaces, b...</td>\n",
       "      <td>[We, love, civita, park, wide, open, space, br...</td>\n",
       "    </tr>\n",
       "  </tbody>\n",
       "</table>\n",
       "</div>"
      ],
      "text/plain": [
       "          name  rating                                             review  \\\n",
       "0  Balboa Park       5  Balboa Park is a must see when coming to San D...   \n",
       "2  Balboa Park       5  Beautiful sightseeing in San Diego. Lots of wa...   \n",
       "3  Civita Park       5  Was invited to child's B-Day party pre Covid-1...   \n",
       "4  Civita Park       5  Pretty nice park, beautiful design.  Anyone is...   \n",
       "5  Civita Park       1  We love Civita Park for its wide open spaces t...   \n",
       "\n",
       "                                        review_token  \\\n",
       "0  [Balboa, Park, is, a, must, see, when, coming,...   \n",
       "2  [Beautiful, sightseeing, in, San, Diego, ., Lo...   \n",
       "3  [Was, invited, to, child, 's, B-Day, party, pr...   \n",
       "4  [Pretty, nice, park, ,, beautiful, design, ., ...   \n",
       "5  [We, love, Civita, Park, for, its, wide, open,...   \n",
       "\n",
       "                                         review_stop  \\\n",
       "0  [Balboa, Park, must, see, coming, San, Diego, ...   \n",
       "2  [Beautiful, sightseeing, San, Diego, ., Lots, ...   \n",
       "3  [Was, invited, child, 's, B-Day, party, pre, C...   \n",
       "4  [Pretty, nice, park, ,, beautiful, design, ., ...   \n",
       "5  [We, love, Civita, Park, wide, open, spaces, b...   \n",
       "\n",
       "                                         review_stem  \n",
       "0  [balboa, park, must, see, come, san, diego, .,...  \n",
       "2  [beauti, sightse, san, diego, ., lot, walkway,...  \n",
       "3  [wa, invit, child, 's, b-day, parti, pre, covi...  \n",
       "4  [pretti, nice, park, ,, beauti, design, ., any...  \n",
       "5  [We, love, civita, park, wide, open, space, br...  "
      ]
     },
     "execution_count": 10,
     "metadata": {},
     "output_type": "execute_result"
    }
   ],
   "source": [
    "## The group of people who do not have a dog\n",
    "df_noDogs = df_reviews[~df_reviews['review'].str.contains('dog|dogs|pup|pups|doggie')]\n",
    "df_noDogs.head(5)"
   ]
  },
  {
   "cell_type": "code",
   "execution_count": 11,
   "metadata": {},
   "outputs": [
    {
     "data": {
      "text/plain": [
       "(140, 6)"
      ]
     },
     "execution_count": 11,
     "metadata": {},
     "output_type": "execute_result"
    }
   ],
   "source": [
    "# Check the size of this group of people who own a dog\n",
    "df_withDogs.shape"
   ]
  },
  {
   "cell_type": "code",
   "execution_count": 12,
   "metadata": {},
   "outputs": [
    {
     "data": {
      "text/plain": [
       "(2193, 6)"
      ]
     },
     "execution_count": 12,
     "metadata": {},
     "output_type": "execute_result"
    }
   ],
   "source": [
    "# Check the size of this group of people who own a dog\n",
    "df_noDogs.shape"
   ]
  },
  {
   "cell_type": "markdown",
   "metadata": {},
   "source": [
    "I randomly select 140 observations from the group of people who do not have a dog to make sure the sample size of both groups are the same."
   ]
  },
  {
   "cell_type": "code",
   "execution_count": 13,
   "metadata": {},
   "outputs": [],
   "source": [
    "## Randomly selecting 132 observations from the group of people who do not have a dog\n",
    "df_noDogs = df_noDogs.sample(n = 140)"
   ]
  },
  {
   "cell_type": "code",
   "execution_count": 14,
   "metadata": {},
   "outputs": [
    {
     "data": {
      "text/plain": [
       "3.9571428571428573"
      ]
     },
     "execution_count": 14,
     "metadata": {},
     "output_type": "execute_result"
    }
   ],
   "source": [
    "# Compare the average ratings for parks of the group of dog owners and the average ratings of the group of people with no dogs\n",
    "df_withDogs['rating'].mean()"
   ]
  },
  {
   "cell_type": "code",
   "execution_count": 15,
   "metadata": {},
   "outputs": [
    {
     "data": {
      "text/plain": [
       "4.25"
      ]
     },
     "execution_count": 15,
     "metadata": {},
     "output_type": "execute_result"
    }
   ],
   "source": [
    "df_noDogs['rating'].mean()"
   ]
  },
  {
   "cell_type": "markdown",
   "metadata": {},
   "source": [
    "We can see that those two average rating scores are really close at around 4."
   ]
  },
  {
   "cell_type": "markdown",
   "metadata": {},
   "source": [
    "In order to see the words mentioned by those two groups of people, I uses two Frequency Distribution plot here."
   ]
  },
  {
   "cell_type": "code",
   "execution_count": 16,
   "metadata": {},
   "outputs": [],
   "source": [
    "withDogs = df_withDogs['review_stem'].apply(pd.Series).stack()\n",
    "noDogs = df_noDogs['review_stem'].apply(pd.Series).stack()"
   ]
  },
  {
   "cell_type": "code",
   "execution_count": 17,
   "metadata": {},
   "outputs": [],
   "source": [
    "fdist_withDogs = FreqDist(withDogs)\n",
    "fdist_noDogs = FreqDist(noDogs)\n",
    "\n",
    "for punc in string.punctuation:\n",
    "    del fdist_withDogs[punc]\n",
    "    del fdist_noDogs[punc]"
   ]
  },
  {
   "cell_type": "code",
   "execution_count": 18,
   "metadata": {},
   "outputs": [
    {
     "data": {
      "image/png": "[encoded data removed]",
      "text/plain": [
       "<Figure size 432x288 with 1 Axes>"
      ]
     },
     "metadata": {
      "needs_background": "light"
     },
     "output_type": "display_data"
    },
    {
     "data": {
      "text/plain": [
       "<AxesSubplot:title={'center':'Word Frequency Distribution for people who own a dog'}, xlabel='Samples', ylabel='Counts'>"
      ]
     },
     "execution_count": 18,
     "metadata": {},
     "output_type": "execute_result"
    }
   ],
   "source": [
    "fdist_withDogs.plot(20, title = 'Word Frequency Distribution for people who own a dog', cumulative = False)\n"
   ]
  },
  {
   "cell_type": "markdown",
   "metadata": {},
   "source": [
    "In this plot, we can see the Top 20 words with the most frequency in the reviews of the group of people who own a dog.\\\n",
    "They always mention some positive words ,such as \"love\", \"great\", and \"nice\". Those words show that this group of people generally have relatively more positive emotions for city parks."
   ]
  },
  {
   "cell_type": "code",
   "execution_count": 19,
   "metadata": {},
   "outputs": [
    {
     "data": {
      "image/png": "[encoded data removed]",
      "text/plain": [
       "<Figure size 432x288 with 1 Axes>"
      ]
     },
     "metadata": {
      "needs_background": "light"
     },
     "output_type": "display_data"
    },
    {
     "data": {
      "text/plain": [
       "<AxesSubplot:title={'center':'Word Frequency Distribution for people who do not own a dog'}, xlabel='Samples', ylabel='Counts'>"
      ]
     },
     "execution_count": 19,
     "metadata": {},
     "output_type": "execute_result"
    }
   ],
   "source": [
    "fdist_noDogs.plot(20, title = 'Word Frequency Distribution for people who do not own a dog', cumulative = False)"
   ]
  },
  {
   "cell_type": "markdown",
   "metadata": {},
   "source": [
    "In this plot, we can see the Top 20 words with the most frequency in the reviews of the group of people who do not own a dog.\\\n",
    "They always mention some positive words ,such as \"great\", \"nice\", and \"love\". Those words show that this group of people generally have relatively more positive emotions for city parks."
   ]
  },
  {
   "cell_type": "markdown",
   "metadata": {},
   "source": [
    "From both plots, we can see that both groups mention a lot of positive words in their reviews, like \"great\", \"love\", and \"nice\". We are unable to see a clear difference between the ratings of those two groups."
   ]
  },
  {
   "cell_type": "markdown",
   "metadata": {},
   "source": [
    "Sentiment Analysis"
   ]
  },
  {
   "cell_type": "code",
   "execution_count": 20,
   "metadata": {},
   "outputs": [],
   "source": [
    "## Sentiment Analysis\n",
    "analyzer = SentimentIntensityAnalyzer() \n",
    "\n",
    "withDogs_list = list(df_withDogs['review'].values)\n",
    "noDogs_list = list(df_noDogs['review'].values)"
   ]
  },
  {
   "cell_type": "code",
   "execution_count": 21,
   "metadata": {},
   "outputs": [],
   "source": [
    "def get_sentiments(input_list):\n",
    "    \n",
    "    output = pd.DataFrame()\n",
    "    \n",
    "    for sentence in input_list:\n",
    "        ss = analyzer.polarity_scores(sentence)\n",
    "        ss['sentence']  = sentence\n",
    "        output = output.append(ss, ignore_index = True)\n",
    "        \n",
    "    return output"
   ]
  },
  {
   "cell_type": "code",
   "execution_count": 22,
   "metadata": {},
   "outputs": [
    {
     "data": {
      "text/html": [
       "<div>\n",
       "<style scoped>\n",
       "    .dataframe tbody tr th:only-of-type {\n",
       "        vertical-align: middle;\n",
       "    }\n",
       "\n",
       "    .dataframe tbody tr th {\n",
       "        vertical-align: top;\n",
       "    }\n",
       "\n",
       "    .dataframe thead th {\n",
       "        text-align: right;\n",
       "    }\n",
       "</style>\n",
       "<table border=\"1\" class=\"dataframe\">\n",
       "  <thead>\n",
       "    <tr style=\"text-align: right;\">\n",
       "      <th></th>\n",
       "      <th>compound</th>\n",
       "      <th>neg</th>\n",
       "      <th>neu</th>\n",
       "      <th>pos</th>\n",
       "      <th>sentence</th>\n",
       "    </tr>\n",
       "  </thead>\n",
       "  <tbody>\n",
       "    <tr>\n",
       "      <th>0</th>\n",
       "      <td>0.9001</td>\n",
       "      <td>0.000</td>\n",
       "      <td>0.621</td>\n",
       "      <td>0.379</td>\n",
       "      <td>Beautiful grounds even to take a stroll during...</td>\n",
       "    </tr>\n",
       "    <tr>\n",
       "      <th>1</th>\n",
       "      <td>0.9274</td>\n",
       "      <td>0.000</td>\n",
       "      <td>0.612</td>\n",
       "      <td>0.388</td>\n",
       "      <td>Beautiful space, lots of room to play with the...</td>\n",
       "    </tr>\n",
       "    <tr>\n",
       "      <th>2</th>\n",
       "      <td>0.9279</td>\n",
       "      <td>0.000</td>\n",
       "      <td>0.673</td>\n",
       "      <td>0.327</td>\n",
       "      <td>From the outside, the park looks small, but it...</td>\n",
       "    </tr>\n",
       "    <tr>\n",
       "      <th>3</th>\n",
       "      <td>0.6588</td>\n",
       "      <td>0.000</td>\n",
       "      <td>0.812</td>\n",
       "      <td>0.188</td>\n",
       "      <td>Such a great park!\\n- Toddler structure &amp; age ...</td>\n",
       "    </tr>\n",
       "    <tr>\n",
       "      <th>4</th>\n",
       "      <td>0.6696</td>\n",
       "      <td>0.000</td>\n",
       "      <td>0.866</td>\n",
       "      <td>0.134</td>\n",
       "      <td>Our two huskies love coming to this park! It's...</td>\n",
       "    </tr>\n",
       "    <tr>\n",
       "      <th>5</th>\n",
       "      <td>0.8126</td>\n",
       "      <td>0.000</td>\n",
       "      <td>0.785</td>\n",
       "      <td>0.215</td>\n",
       "      <td>We've been going here pretty much everyday and...</td>\n",
       "    </tr>\n",
       "    <tr>\n",
       "      <th>6</th>\n",
       "      <td>0.9199</td>\n",
       "      <td>0.000</td>\n",
       "      <td>0.683</td>\n",
       "      <td>0.317</td>\n",
       "      <td>This dog park is awesome! I love how there is ...</td>\n",
       "    </tr>\n",
       "    <tr>\n",
       "      <th>7</th>\n",
       "      <td>0.3182</td>\n",
       "      <td>0.100</td>\n",
       "      <td>0.717</td>\n",
       "      <td>0.183</td>\n",
       "      <td>Clean, shady community park with lots of trees...</td>\n",
       "    </tr>\n",
       "    <tr>\n",
       "      <th>8</th>\n",
       "      <td>0.0000</td>\n",
       "      <td>0.000</td>\n",
       "      <td>1.000</td>\n",
       "      <td>0.000</td>\n",
       "      <td>Harbor island is your pandemic playground. Get...</td>\n",
       "    </tr>\n",
       "    <tr>\n",
       "      <th>9</th>\n",
       "      <td>-0.6808</td>\n",
       "      <td>0.189</td>\n",
       "      <td>0.811</td>\n",
       "      <td>0.000</td>\n",
       "      <td>Very convenient park. Always lots of dog traff...</td>\n",
       "    </tr>\n",
       "  </tbody>\n",
       "</table>\n",
       "</div>"
      ],
      "text/plain": [
       "   compound    neg    neu    pos  \\\n",
       "0    0.9001  0.000  0.621  0.379   \n",
       "1    0.9274  0.000  0.612  0.388   \n",
       "2    0.9279  0.000  0.673  0.327   \n",
       "3    0.6588  0.000  0.812  0.188   \n",
       "4    0.6696  0.000  0.866  0.134   \n",
       "5    0.8126  0.000  0.785  0.215   \n",
       "6    0.9199  0.000  0.683  0.317   \n",
       "7    0.3182  0.100  0.717  0.183   \n",
       "8    0.0000  0.000  1.000  0.000   \n",
       "9   -0.6808  0.189  0.811  0.000   \n",
       "\n",
       "                                            sentence  \n",
       "0  Beautiful grounds even to take a stroll during...  \n",
       "1  Beautiful space, lots of room to play with the...  \n",
       "2  From the outside, the park looks small, but it...  \n",
       "3  Such a great park!\\n- Toddler structure & age ...  \n",
       "4  Our two huskies love coming to this park! It's...  \n",
       "5  We've been going here pretty much everyday and...  \n",
       "6  This dog park is awesome! I love how there is ...  \n",
       "7  Clean, shady community park with lots of trees...  \n",
       "8  Harbor island is your pandemic playground. Get...  \n",
       "9  Very convenient park. Always lots of dog traff...  "
      ]
     },
     "execution_count": 22,
     "metadata": {},
     "output_type": "execute_result"
    }
   ],
   "source": [
    "withDogs_sentiments = get_sentiments(withDogs_list)\n",
    "withDogs_sentiments.head(10)"
   ]
  },
  {
   "cell_type": "code",
   "execution_count": 23,
   "metadata": {},
   "outputs": [
    {
     "data": {
      "text/html": [
       "<div>\n",
       "<style scoped>\n",
       "    .dataframe tbody tr th:only-of-type {\n",
       "        vertical-align: middle;\n",
       "    }\n",
       "\n",
       "    .dataframe tbody tr th {\n",
       "        vertical-align: top;\n",
       "    }\n",
       "\n",
       "    .dataframe thead th {\n",
       "        text-align: right;\n",
       "    }\n",
       "</style>\n",
       "<table border=\"1\" class=\"dataframe\">\n",
       "  <thead>\n",
       "    <tr style=\"text-align: right;\">\n",
       "      <th></th>\n",
       "      <th>compound</th>\n",
       "      <th>neg</th>\n",
       "      <th>neu</th>\n",
       "      <th>pos</th>\n",
       "      <th>sentence</th>\n",
       "    </tr>\n",
       "  </thead>\n",
       "  <tbody>\n",
       "    <tr>\n",
       "      <th>0</th>\n",
       "      <td>0.6369</td>\n",
       "      <td>0.000</td>\n",
       "      <td>0.843</td>\n",
       "      <td>0.157</td>\n",
       "      <td>Came to this park cause my daughter likes to p...</td>\n",
       "    </tr>\n",
       "    <tr>\n",
       "      <th>1</th>\n",
       "      <td>0.2937</td>\n",
       "      <td>0.065</td>\n",
       "      <td>0.833</td>\n",
       "      <td>0.102</td>\n",
       "      <td>I don't post many reviews on Yelp. To be hones...</td>\n",
       "    </tr>\n",
       "    <tr>\n",
       "      <th>2</th>\n",
       "      <td>0.8836</td>\n",
       "      <td>0.000</td>\n",
       "      <td>0.661</td>\n",
       "      <td>0.339</td>\n",
       "      <td>This high-traffic area seems to attract plenty...</td>\n",
       "    </tr>\n",
       "    <tr>\n",
       "      <th>3</th>\n",
       "      <td>0.3400</td>\n",
       "      <td>0.000</td>\n",
       "      <td>0.912</td>\n",
       "      <td>0.088</td>\n",
       "      <td>Fairly quiet, neighborhood park. \\n\\nMost of t...</td>\n",
       "    </tr>\n",
       "    <tr>\n",
       "      <th>4</th>\n",
       "      <td>0.4588</td>\n",
       "      <td>0.104</td>\n",
       "      <td>0.696</td>\n",
       "      <td>0.199</td>\n",
       "      <td>Janicke was wonderful to work with. She is inc...</td>\n",
       "    </tr>\n",
       "    <tr>\n",
       "      <th>5</th>\n",
       "      <td>0.7506</td>\n",
       "      <td>0.000</td>\n",
       "      <td>0.808</td>\n",
       "      <td>0.192</td>\n",
       "      <td>Huge 35,000 square-foot skate park open to the...</td>\n",
       "    </tr>\n",
       "    <tr>\n",
       "      <th>6</th>\n",
       "      <td>0.6249</td>\n",
       "      <td>0.000</td>\n",
       "      <td>0.825</td>\n",
       "      <td>0.175</td>\n",
       "      <td>On a cool day, this was a nice hike. We parked...</td>\n",
       "    </tr>\n",
       "    <tr>\n",
       "      <th>7</th>\n",
       "      <td>-0.4013</td>\n",
       "      <td>0.174</td>\n",
       "      <td>0.738</td>\n",
       "      <td>0.088</td>\n",
       "      <td>Not really understanding some of the low revie...</td>\n",
       "    </tr>\n",
       "    <tr>\n",
       "      <th>8</th>\n",
       "      <td>0.6842</td>\n",
       "      <td>0.000</td>\n",
       "      <td>0.766</td>\n",
       "      <td>0.234</td>\n",
       "      <td>Places like these need to easy to find!  This ...</td>\n",
       "    </tr>\n",
       "    <tr>\n",
       "      <th>9</th>\n",
       "      <td>-0.0498</td>\n",
       "      <td>0.101</td>\n",
       "      <td>0.774</td>\n",
       "      <td>0.125</td>\n",
       "      <td>Not much of a golf course left. Only grass is ...</td>\n",
       "    </tr>\n",
       "  </tbody>\n",
       "</table>\n",
       "</div>"
      ],
      "text/plain": [
       "   compound    neg    neu    pos  \\\n",
       "0    0.6369  0.000  0.843  0.157   \n",
       "1    0.2937  0.065  0.833  0.102   \n",
       "2    0.8836  0.000  0.661  0.339   \n",
       "3    0.3400  0.000  0.912  0.088   \n",
       "4    0.4588  0.104  0.696  0.199   \n",
       "5    0.7506  0.000  0.808  0.192   \n",
       "6    0.6249  0.000  0.825  0.175   \n",
       "7   -0.4013  0.174  0.738  0.088   \n",
       "8    0.6842  0.000  0.766  0.234   \n",
       "9   -0.0498  0.101  0.774  0.125   \n",
       "\n",
       "                                            sentence  \n",
       "0  Came to this park cause my daughter likes to p...  \n",
       "1  I don't post many reviews on Yelp. To be hones...  \n",
       "2  This high-traffic area seems to attract plenty...  \n",
       "3  Fairly quiet, neighborhood park. \\n\\nMost of t...  \n",
       "4  Janicke was wonderful to work with. She is inc...  \n",
       "5  Huge 35,000 square-foot skate park open to the...  \n",
       "6  On a cool day, this was a nice hike. We parked...  \n",
       "7  Not really understanding some of the low revie...  \n",
       "8  Places like these need to easy to find!  This ...  \n",
       "9  Not much of a golf course left. Only grass is ...  "
      ]
     },
     "execution_count": 23,
     "metadata": {},
     "output_type": "execute_result"
    }
   ],
   "source": [
    "noDogs_sentiments = get_sentiments(noDogs_list)\n",
    "noDogs_sentiments.head(10)"
   ]
  },
  {
   "cell_type": "markdown",
   "metadata": {},
   "source": [
    "We can see the average compound for both groups of people here."
   ]
  },
  {
   "cell_type": "code",
   "execution_count": 24,
   "metadata": {},
   "outputs": [
    {
     "data": {
      "text/html": [
       "<div>\n",
       "<style scoped>\n",
       "    .dataframe tbody tr th:only-of-type {\n",
       "        vertical-align: middle;\n",
       "    }\n",
       "\n",
       "    .dataframe tbody tr th {\n",
       "        vertical-align: top;\n",
       "    }\n",
       "\n",
       "    .dataframe thead th {\n",
       "        text-align: right;\n",
       "    }\n",
       "</style>\n",
       "<table border=\"1\" class=\"dataframe\">\n",
       "  <thead>\n",
       "    <tr style=\"text-align: right;\">\n",
       "      <th></th>\n",
       "      <th>compound</th>\n",
       "      <th>neg</th>\n",
       "      <th>neu</th>\n",
       "      <th>pos</th>\n",
       "    </tr>\n",
       "  </thead>\n",
       "  <tbody>\n",
       "    <tr>\n",
       "      <th>count</th>\n",
       "      <td>140.000000</td>\n",
       "      <td>140.000000</td>\n",
       "      <td>140.000000</td>\n",
       "      <td>140.000000</td>\n",
       "    </tr>\n",
       "    <tr>\n",
       "      <th>mean</th>\n",
       "      <td>0.426128</td>\n",
       "      <td>0.038264</td>\n",
       "      <td>0.786579</td>\n",
       "      <td>0.175157</td>\n",
       "    </tr>\n",
       "    <tr>\n",
       "      <th>std</th>\n",
       "      <td>0.516984</td>\n",
       "      <td>0.069533</td>\n",
       "      <td>0.128643</td>\n",
       "      <td>0.136910</td>\n",
       "    </tr>\n",
       "    <tr>\n",
       "      <th>min</th>\n",
       "      <td>-0.878100</td>\n",
       "      <td>0.000000</td>\n",
       "      <td>0.462000</td>\n",
       "      <td>0.000000</td>\n",
       "    </tr>\n",
       "    <tr>\n",
       "      <th>25%</th>\n",
       "      <td>0.000000</td>\n",
       "      <td>0.000000</td>\n",
       "      <td>0.705500</td>\n",
       "      <td>0.076000</td>\n",
       "    </tr>\n",
       "    <tr>\n",
       "      <th>50%</th>\n",
       "      <td>0.630450</td>\n",
       "      <td>0.000000</td>\n",
       "      <td>0.802500</td>\n",
       "      <td>0.160000</td>\n",
       "    </tr>\n",
       "    <tr>\n",
       "      <th>75%</th>\n",
       "      <td>0.837050</td>\n",
       "      <td>0.061500</td>\n",
       "      <td>0.883000</td>\n",
       "      <td>0.271000</td>\n",
       "    </tr>\n",
       "    <tr>\n",
       "      <th>max</th>\n",
       "      <td>0.976300</td>\n",
       "      <td>0.357000</td>\n",
       "      <td>1.000000</td>\n",
       "      <td>0.538000</td>\n",
       "    </tr>\n",
       "  </tbody>\n",
       "</table>\n",
       "</div>"
      ],
      "text/plain": [
       "         compound         neg         neu         pos\n",
       "count  140.000000  140.000000  140.000000  140.000000\n",
       "mean     0.426128    0.038264    0.786579    0.175157\n",
       "std      0.516984    0.069533    0.128643    0.136910\n",
       "min     -0.878100    0.000000    0.462000    0.000000\n",
       "25%      0.000000    0.000000    0.705500    0.076000\n",
       "50%      0.630450    0.000000    0.802500    0.160000\n",
       "75%      0.837050    0.061500    0.883000    0.271000\n",
       "max      0.976300    0.357000    1.000000    0.538000"
      ]
     },
     "execution_count": 24,
     "metadata": {},
     "output_type": "execute_result"
    }
   ],
   "source": [
    "withDogs_sentiments.describe()"
   ]
  },
  {
   "cell_type": "code",
   "execution_count": 25,
   "metadata": {},
   "outputs": [
    {
     "data": {
      "text/html": [
       "<div>\n",
       "<style scoped>\n",
       "    .dataframe tbody tr th:only-of-type {\n",
       "        vertical-align: middle;\n",
       "    }\n",
       "\n",
       "    .dataframe tbody tr th {\n",
       "        vertical-align: top;\n",
       "    }\n",
       "\n",
       "    .dataframe thead th {\n",
       "        text-align: right;\n",
       "    }\n",
       "</style>\n",
       "<table border=\"1\" class=\"dataframe\">\n",
       "  <thead>\n",
       "    <tr style=\"text-align: right;\">\n",
       "      <th></th>\n",
       "      <th>compound</th>\n",
       "      <th>neg</th>\n",
       "      <th>neu</th>\n",
       "      <th>pos</th>\n",
       "    </tr>\n",
       "  </thead>\n",
       "  <tbody>\n",
       "    <tr>\n",
       "      <th>count</th>\n",
       "      <td>140.000000</td>\n",
       "      <td>140.000000</td>\n",
       "      <td>140.000000</td>\n",
       "      <td>140.000000</td>\n",
       "    </tr>\n",
       "    <tr>\n",
       "      <th>mean</th>\n",
       "      <td>0.453570</td>\n",
       "      <td>0.031443</td>\n",
       "      <td>0.802521</td>\n",
       "      <td>0.166036</td>\n",
       "    </tr>\n",
       "    <tr>\n",
       "      <th>std</th>\n",
       "      <td>0.428629</td>\n",
       "      <td>0.055423</td>\n",
       "      <td>0.119664</td>\n",
       "      <td>0.115589</td>\n",
       "    </tr>\n",
       "    <tr>\n",
       "      <th>min</th>\n",
       "      <td>-0.726900</td>\n",
       "      <td>0.000000</td>\n",
       "      <td>0.493000</td>\n",
       "      <td>0.000000</td>\n",
       "    </tr>\n",
       "    <tr>\n",
       "      <th>25%</th>\n",
       "      <td>0.235875</td>\n",
       "      <td>0.000000</td>\n",
       "      <td>0.722500</td>\n",
       "      <td>0.094750</td>\n",
       "    </tr>\n",
       "    <tr>\n",
       "      <th>50%</th>\n",
       "      <td>0.615800</td>\n",
       "      <td>0.000000</td>\n",
       "      <td>0.809000</td>\n",
       "      <td>0.154000</td>\n",
       "    </tr>\n",
       "    <tr>\n",
       "      <th>75%</th>\n",
       "      <td>0.797500</td>\n",
       "      <td>0.060250</td>\n",
       "      <td>0.893250</td>\n",
       "      <td>0.244250</td>\n",
       "    </tr>\n",
       "    <tr>\n",
       "      <th>max</th>\n",
       "      <td>0.948500</td>\n",
       "      <td>0.227000</td>\n",
       "      <td>1.000000</td>\n",
       "      <td>0.443000</td>\n",
       "    </tr>\n",
       "  </tbody>\n",
       "</table>\n",
       "</div>"
      ],
      "text/plain": [
       "         compound         neg         neu         pos\n",
       "count  140.000000  140.000000  140.000000  140.000000\n",
       "mean     0.453570    0.031443    0.802521    0.166036\n",
       "std      0.428629    0.055423    0.119664    0.115589\n",
       "min     -0.726900    0.000000    0.493000    0.000000\n",
       "25%      0.235875    0.000000    0.722500    0.094750\n",
       "50%      0.615800    0.000000    0.809000    0.154000\n",
       "75%      0.797500    0.060250    0.893250    0.244250\n",
       "max      0.948500    0.227000    1.000000    0.443000"
      ]
     },
     "execution_count": 25,
     "metadata": {},
     "output_type": "execute_result"
    }
   ],
   "source": [
    "noDogs_sentiments.describe()"
   ]
  },
  {
   "cell_type": "markdown",
   "metadata": {},
   "source": [
    "From those two chart above, we can clearly see that the average compound for both groups are nearly the same.\\\n",
    "They are both above 0.4.\\\n",
    "The average compounds for both groups are larger than 0, which represents that both groups have more positive feelings than negative feelings."
   ]
  },
  {
   "cell_type": "markdown",
   "metadata": {},
   "source": [
    "Then I want to use a more clear distribution plot to see the compound stentiment score for both groups."
   ]
  },
  {
   "cell_type": "code",
   "execution_count": 26,
   "metadata": {},
   "outputs": [
    {
     "data": {
      "text/plain": [
       "(-1.0, 1.0)"
      ]
     },
     "execution_count": 26,
     "metadata": {},
     "output_type": "execute_result"
    },
    {
     "data": {
      "image/png": "[encoded data removed]",
      "text/plain": [
       "<Figure size 432x288 with 1 Axes>"
      ]
     },
     "metadata": {
      "needs_background": "light"
     },
     "output_type": "display_data"
    }
   ],
   "source": [
    "withDogs_sentiments['compound'].plot.density(label='withDogs')\n",
    "noDogs_sentiments['compound'].plot.density(label='noDogs')\n",
    "\n",
    "plt.legend()\n",
    "plt.xlabel('Compound Sentiment Score')\n",
    "plt.xlim(-1,1)"
   ]
  },
  {
   "cell_type": "markdown",
   "metadata": {},
   "source": [
    "In the plot above, the blue line represents the compound sentiment score for the group of people who own a dog.\\\n",
    "The orange line represents the compound sentiment score for the group of people who do not own a dog.\\\n",
    "we can see that the shape of both two lines are really similar.\\\n",
    "And they both have higher densities at high compound sentiment scores. Therefore, they both have more positive feelings for city parks."
   ]
  },
  {
   "cell_type": "markdown",
   "metadata": {},
   "source": [
    "Then I use a boxplot to get another clear visualization of the compound sentiment score for both groups."
   ]
  },
  {
   "cell_type": "code",
   "execution_count": 27,
   "metadata": {},
   "outputs": [
    {
     "data": {
      "text/html": [
       "<div>\n",
       "<style scoped>\n",
       "    .dataframe tbody tr th:only-of-type {\n",
       "        vertical-align: middle;\n",
       "    }\n",
       "\n",
       "    .dataframe tbody tr th {\n",
       "        vertical-align: top;\n",
       "    }\n",
       "\n",
       "    .dataframe thead th {\n",
       "        text-align: right;\n",
       "    }\n",
       "</style>\n",
       "<table border=\"1\" class=\"dataframe\">\n",
       "  <thead>\n",
       "    <tr style=\"text-align: right;\">\n",
       "      <th></th>\n",
       "      <th>compound</th>\n",
       "      <th>neg</th>\n",
       "      <th>neu</th>\n",
       "      <th>pos</th>\n",
       "      <th>sentence</th>\n",
       "      <th>which</th>\n",
       "    </tr>\n",
       "  </thead>\n",
       "  <tbody>\n",
       "    <tr>\n",
       "      <th>0</th>\n",
       "      <td>0.9001</td>\n",
       "      <td>0.0</td>\n",
       "      <td>0.621</td>\n",
       "      <td>0.379</td>\n",
       "      <td>Beautiful grounds even to take a stroll during...</td>\n",
       "      <td>withDogs</td>\n",
       "    </tr>\n",
       "    <tr>\n",
       "      <th>1</th>\n",
       "      <td>0.9274</td>\n",
       "      <td>0.0</td>\n",
       "      <td>0.612</td>\n",
       "      <td>0.388</td>\n",
       "      <td>Beautiful space, lots of room to play with the...</td>\n",
       "      <td>withDogs</td>\n",
       "    </tr>\n",
       "    <tr>\n",
       "      <th>2</th>\n",
       "      <td>0.9279</td>\n",
       "      <td>0.0</td>\n",
       "      <td>0.673</td>\n",
       "      <td>0.327</td>\n",
       "      <td>From the outside, the park looks small, but it...</td>\n",
       "      <td>withDogs</td>\n",
       "    </tr>\n",
       "    <tr>\n",
       "      <th>3</th>\n",
       "      <td>0.6588</td>\n",
       "      <td>0.0</td>\n",
       "      <td>0.812</td>\n",
       "      <td>0.188</td>\n",
       "      <td>Such a great park!\\n- Toddler structure &amp; age ...</td>\n",
       "      <td>withDogs</td>\n",
       "    </tr>\n",
       "    <tr>\n",
       "      <th>4</th>\n",
       "      <td>0.6696</td>\n",
       "      <td>0.0</td>\n",
       "      <td>0.866</td>\n",
       "      <td>0.134</td>\n",
       "      <td>Our two huskies love coming to this park! It's...</td>\n",
       "      <td>withDogs</td>\n",
       "    </tr>\n",
       "  </tbody>\n",
       "</table>\n",
       "</div>"
      ],
      "text/plain": [
       "   compound  neg    neu    pos  \\\n",
       "0    0.9001  0.0  0.621  0.379   \n",
       "1    0.9274  0.0  0.612  0.388   \n",
       "2    0.9279  0.0  0.673  0.327   \n",
       "3    0.6588  0.0  0.812  0.188   \n",
       "4    0.6696  0.0  0.866  0.134   \n",
       "\n",
       "                                            sentence     which  \n",
       "0  Beautiful grounds even to take a stroll during...  withDogs  \n",
       "1  Beautiful space, lots of room to play with the...  withDogs  \n",
       "2  From the outside, the park looks small, but it...  withDogs  \n",
       "3  Such a great park!\\n- Toddler structure & age ...  withDogs  \n",
       "4  Our two huskies love coming to this park! It's...  withDogs  "
      ]
     },
     "execution_count": 27,
     "metadata": {},
     "output_type": "execute_result"
    }
   ],
   "source": [
    "## Include label for boxplot\n",
    "withDogs_sentiments['which'] = 'withDogs' \n",
    "noDogs_sentiments['which'] = 'noDogs'\n",
    "\n",
    "compound_out = pd.concat([withDogs_sentiments, noDogs_sentiments])\n",
    "compound_out.head()"
   ]
  },
  {
   "cell_type": "code",
   "execution_count": 28,
   "metadata": {},
   "outputs": [
    {
     "data": {
      "text/plain": [
       "Text(0.5, 0, 'group')"
      ]
     },
     "execution_count": 28,
     "metadata": {},
     "output_type": "execute_result"
    },
    {
     "data": {
      "image/png": "[encoded data removed]",
      "text/plain": [
       "<Figure size 432x288 with 1 Axes>"
      ]
     },
     "metadata": {
      "needs_background": "light"
     },
     "output_type": "display_data"
    }
   ],
   "source": [
    "# Plot compound by group type\n",
    "sns.boxplot(data = compound_out, x = \"which\", y = 'compound')\n",
    "plt.xlabel('group')"
   ]
  },
  {
   "cell_type": "markdown",
   "metadata": {},
   "source": [
    "In the boxplot above, the compound scores for both groups are really similar, and the median scores are nearly the same.\\\n",
    "The compound scores for both groups are larger than 0, showing that they are more postive for parks."
   ]
  },
  {
   "cell_type": "markdown",
   "metadata": {},
   "source": [
    "TF-IDF -- Bag of Words(BoW) approach below"
   ]
  },
  {
   "cell_type": "code",
   "execution_count": 29,
   "metadata": {},
   "outputs": [],
   "source": [
    "## TF-IDF\n",
    "withDogs = list(map(str.lower, withDogs_list))\n",
    "noDogs = list(map(str.lower, noDogs_list))\n",
    "\n",
    "for c in string.punctuation:\n",
    "    withDogs = str(withDogs).replace(c, \"\")\n",
    "    noDogs = str(noDogs).replace(c, \"\")\n",
    "    \n",
    "corpus = [str(withDogs), str(noDogs)]\n",
    "\n",
    "tfidf = TfidfVectorizer(sublinear_tf = True, \n",
    "                        analyzer = 'word', \n",
    "                        max_features = 2000, \n",
    "                        tokenizer = word_tokenize,\n",
    "                        stop_words = stop_words)"
   ]
  },
  {
   "cell_type": "code",
   "execution_count": 30,
   "metadata": {},
   "outputs": [],
   "source": [
    "parks_tfidf = pd.DataFrame(tfidf.fit_transform(corpus).toarray())\n",
    "parks_tfidf.columns = tfidf.get_feature_names()\n",
    "parks_tfidf = parks_tfidf.rename(index = {0:'withDogs', 1:\"noDogs\"})"
   ]
  },
  {
   "cell_type": "code",
   "execution_count": 31,
   "metadata": {},
   "outputs": [
    {
     "data": {
      "text/html": [
       "<div>\n",
       "<style scoped>\n",
       "    .dataframe tbody tr th:only-of-type {\n",
       "        vertical-align: middle;\n",
       "    }\n",
       "\n",
       "    .dataframe tbody tr th {\n",
       "        vertical-align: top;\n",
       "    }\n",
       "\n",
       "    .dataframe thead th {\n",
       "        text-align: right;\n",
       "    }\n",
       "</style>\n",
       "<table border=\"1\" class=\"dataframe\">\n",
       "  <thead>\n",
       "    <tr style=\"text-align: right;\">\n",
       "      <th></th>\n",
       "      <th>dog</th>\n",
       "      <th>dogs</th>\n",
       "      <th>park</th>\n",
       "      <th>leash</th>\n",
       "      <th>great</th>\n",
       "      <th>small</th>\n",
       "      <th>puppy</th>\n",
       "      <th>nice</th>\n",
       "      <th>place</th>\n",
       "      <th>love</th>\n",
       "      <th>...</th>\n",
       "      <th>overlooking</th>\n",
       "      <th>overlooks</th>\n",
       "      <th>overweight</th>\n",
       "      <th>ownedoperated</th>\n",
       "      <th>costa</th>\n",
       "      <th>pacific</th>\n",
       "      <th>cost</th>\n",
       "      <th>pad</th>\n",
       "      <th>cortez</th>\n",
       "      <th>zoo</th>\n",
       "    </tr>\n",
       "  </thead>\n",
       "  <tbody>\n",
       "    <tr>\n",
       "      <th>withDogs</th>\n",
       "      <td>0.150942</td>\n",
       "      <td>0.128836</td>\n",
       "      <td>0.104334</td>\n",
       "      <td>0.081125</td>\n",
       "      <td>0.078212</td>\n",
       "      <td>0.076874</td>\n",
       "      <td>0.074749</td>\n",
       "      <td>0.074660</td>\n",
       "      <td>0.073018</td>\n",
       "      <td>0.071211</td>\n",
       "      <td>...</td>\n",
       "      <td>0.000000</td>\n",
       "      <td>0.000000</td>\n",
       "      <td>0.000000</td>\n",
       "      <td>0.000000</td>\n",
       "      <td>0.000000</td>\n",
       "      <td>0.000000</td>\n",
       "      <td>0.000000</td>\n",
       "      <td>0.000000</td>\n",
       "      <td>0.000000</td>\n",
       "      <td>0.000000</td>\n",
       "    </tr>\n",
       "    <tr>\n",
       "      <th>noDogs</th>\n",
       "      <td>0.000000</td>\n",
       "      <td>0.000000</td>\n",
       "      <td>0.082278</td>\n",
       "      <td>0.000000</td>\n",
       "      <td>0.069852</td>\n",
       "      <td>0.028598</td>\n",
       "      <td>0.000000</td>\n",
       "      <td>0.067491</td>\n",
       "      <td>0.072560</td>\n",
       "      <td>0.054003</td>\n",
       "      <td>...</td>\n",
       "      <td>0.040194</td>\n",
       "      <td>0.023739</td>\n",
       "      <td>0.023739</td>\n",
       "      <td>0.023739</td>\n",
       "      <td>0.023739</td>\n",
       "      <td>0.023739</td>\n",
       "      <td>0.023739</td>\n",
       "      <td>0.023739</td>\n",
       "      <td>0.023739</td>\n",
       "      <td>0.023739</td>\n",
       "    </tr>\n",
       "  </tbody>\n",
       "</table>\n",
       "<p>2 rows × 1712 columns</p>\n",
       "</div>"
      ],
      "text/plain": [
       "               dog      dogs      park     leash     great     small  \\\n",
       "withDogs  0.150942  0.128836  0.104334  0.081125  0.078212  0.076874   \n",
       "noDogs    0.000000  0.000000  0.082278  0.000000  0.069852  0.028598   \n",
       "\n",
       "             puppy      nice     place      love  ...  overlooking  overlooks  \\\n",
       "withDogs  0.074749  0.074660  0.073018  0.071211  ...     0.000000   0.000000   \n",
       "noDogs    0.000000  0.067491  0.072560  0.054003  ...     0.040194   0.023739   \n",
       "\n",
       "          overweight  ownedoperated     costa   pacific      cost       pad  \\\n",
       "withDogs    0.000000       0.000000  0.000000  0.000000  0.000000  0.000000   \n",
       "noDogs      0.023739       0.023739  0.023739  0.023739  0.023739  0.023739   \n",
       "\n",
       "            cortez       zoo  \n",
       "withDogs  0.000000  0.000000  \n",
       "noDogs    0.023739  0.023739  \n",
       "\n",
       "[2 rows x 1712 columns]"
      ]
     },
     "execution_count": 31,
     "metadata": {},
     "output_type": "execute_result"
    }
   ],
   "source": [
    "parks_tfidf.sort_values(by = 'withDogs', axis = 1, ascending=False)"
   ]
  },
  {
   "cell_type": "code",
   "execution_count": 32,
   "metadata": {},
   "outputs": [
    {
     "data": {
      "text/html": [
       "<div>\n",
       "<style scoped>\n",
       "    .dataframe tbody tr th:only-of-type {\n",
       "        vertical-align: middle;\n",
       "    }\n",
       "\n",
       "    .dataframe tbody tr th {\n",
       "        vertical-align: top;\n",
       "    }\n",
       "\n",
       "    .dataframe thead th {\n",
       "        text-align: right;\n",
       "    }\n",
       "</style>\n",
       "<table border=\"1\" class=\"dataframe\">\n",
       "  <thead>\n",
       "    <tr style=\"text-align: right;\">\n",
       "      <th></th>\n",
       "      <th>park</th>\n",
       "      <th>place</th>\n",
       "      <th>staff</th>\n",
       "      <th>great</th>\n",
       "      <th>nice</th>\n",
       "      <th>little</th>\n",
       "      <th>one</th>\n",
       "      <th>school</th>\n",
       "      <th>courts</th>\n",
       "      <th>things</th>\n",
       "      <th>...</th>\n",
       "      <th>luck</th>\n",
       "      <th>10</th>\n",
       "      <th>lucky</th>\n",
       "      <th>lure</th>\n",
       "      <th>main</th>\n",
       "      <th>making</th>\n",
       "      <th>males</th>\n",
       "      <th>man</th>\n",
       "      <th>manners</th>\n",
       "      <th>lucked</th>\n",
       "    </tr>\n",
       "  </thead>\n",
       "  <tbody>\n",
       "    <tr>\n",
       "      <th>withDogs</th>\n",
       "      <td>0.104334</td>\n",
       "      <td>0.073018</td>\n",
       "      <td>0.000000</td>\n",
       "      <td>0.078212</td>\n",
       "      <td>0.074660</td>\n",
       "      <td>0.061344</td>\n",
       "      <td>0.070235</td>\n",
       "      <td>0.000000</td>\n",
       "      <td>0.000000</td>\n",
       "      <td>0.000000</td>\n",
       "      <td>...</td>\n",
       "      <td>0.025374</td>\n",
       "      <td>0.025374</td>\n",
       "      <td>0.025374</td>\n",
       "      <td>0.025374</td>\n",
       "      <td>0.025374</td>\n",
       "      <td>0.025374</td>\n",
       "      <td>0.042961</td>\n",
       "      <td>0.025374</td>\n",
       "      <td>0.025374</td>\n",
       "      <td>0.025374</td>\n",
       "    </tr>\n",
       "    <tr>\n",
       "      <th>noDogs</th>\n",
       "      <td>0.082278</td>\n",
       "      <td>0.072560</td>\n",
       "      <td>0.069934</td>\n",
       "      <td>0.069852</td>\n",
       "      <td>0.067491</td>\n",
       "      <td>0.065711</td>\n",
       "      <td>0.064746</td>\n",
       "      <td>0.061946</td>\n",
       "      <td>0.061946</td>\n",
       "      <td>0.061946</td>\n",
       "      <td>...</td>\n",
       "      <td>0.000000</td>\n",
       "      <td>0.000000</td>\n",
       "      <td>0.000000</td>\n",
       "      <td>0.000000</td>\n",
       "      <td>0.000000</td>\n",
       "      <td>0.000000</td>\n",
       "      <td>0.000000</td>\n",
       "      <td>0.000000</td>\n",
       "      <td>0.000000</td>\n",
       "      <td>0.000000</td>\n",
       "    </tr>\n",
       "  </tbody>\n",
       "</table>\n",
       "<p>2 rows × 1712 columns</p>\n",
       "</div>"
      ],
      "text/plain": [
       "              park     place     staff     great      nice    little  \\\n",
       "withDogs  0.104334  0.073018  0.000000  0.078212  0.074660  0.061344   \n",
       "noDogs    0.082278  0.072560  0.069934  0.069852  0.067491  0.065711   \n",
       "\n",
       "               one    school    courts    things  ...      luck        10  \\\n",
       "withDogs  0.070235  0.000000  0.000000  0.000000  ...  0.025374  0.025374   \n",
       "noDogs    0.064746  0.061946  0.061946  0.061946  ...  0.000000  0.000000   \n",
       "\n",
       "             lucky      lure      main    making     males       man  \\\n",
       "withDogs  0.025374  0.025374  0.025374  0.025374  0.042961  0.025374   \n",
       "noDogs    0.000000  0.000000  0.000000  0.000000  0.000000  0.000000   \n",
       "\n",
       "           manners    lucked  \n",
       "withDogs  0.025374  0.025374  \n",
       "noDogs    0.000000  0.000000  \n",
       "\n",
       "[2 rows x 1712 columns]"
      ]
     },
     "execution_count": 32,
     "metadata": {},
     "output_type": "execute_result"
    }
   ],
   "source": [
    "parks_tfidf.sort_values(by = 'noDogs', axis = 1, ascending=False)"
   ]
  },
  {
   "cell_type": "markdown",
   "metadata": {},
   "source": [
    "From those two chars above, we can see the words with high TF-IDF scores for each group of people.\\\n",
    "In the group of people who own a dog, they always mention some words that are closely realted to the dog areas, like \"leash\" and \"place\".\n",
    "In the group of people who do not own a dog, they always mention some words that are not closely related to dogs, like \"staff\" and \"moved\".\n",
    "This meets my expections about the preferences for both groups. Also, both groups always mention a lot of positive words, such as \"nice\", \"love\", and \"great\". Therefore, it is clear that both groups has relatively more positive feelings for parks."
   ]
  },
  {
   "cell_type": "markdown",
   "metadata": {},
   "source": [
    "# Ethics & Privacy"
   ]
  },
  {
   "cell_type": "markdown",
   "metadata": {},
   "source": [
    "For the data I used in the comparison between the group of people who own a dog and the group of people who do not own a dog, there may be some issues about it. Since my participants in the the group of people who do not own a dog are randomly selected. It is possible to get some confounding issues.\\\n",
    "There may be some potential bias since the result from the yelp reviews are really subjective. Participants answer give their reviews with their own pespectives on the parks.\\\n",
    "Plus, the sample for the group of people who own a dog may not include all dog owners in the dataset.\\\n",
    "For those issues I bring up, I plan to do the random sampling several times to make sure that the result I get from the samples are the same. Also, for the potential bias of the reviews, I plan to use a large sample size to avoid the bias as much as possible. For the dog owners' issue, I use a lot of keywords related to dogs in the reviews to include dog owners, trying to include dog owners as much as possible."
   ]
  },
  {
   "cell_type": "markdown",
   "metadata": {},
   "source": [
    "# Conclusion & Discussion"
   ]
  },
  {
   "cell_type": "markdown",
   "metadata": {},
   "source": [
    "From the analysis above, we can clearly see that there is no big difference between the parks ratings of people who own dogs and the park ratings of people who do not have a dog. \\\n",
    "The conclusion is that people who own a dog do not have more postive feelings for San Diego parks than people who do not have a dog.\\\n",
    "From the sentiment analysis, we can know that those people who own a dog and people who do not have a dog have pretty similar reating scores for San Diego Parks. Because the average compounds of both groups are nearly the same. They are both around 0.42.\\\n",
    "Therefore, we get the conclusion that people who own a dog do not have more postive feelings for San Diego parks than people who do not own a dog. Their ratings for San Diego parks are pretty similar: both are relatively positive.\\\n",
    "According to this research result, San Diego government do not need to pay much attention on offering specail dog areas in future park constructions. They can spend money and time on something else to make city parks better."
   ]
  }
 ],
 "metadata": {
  "kernelspec": {
   "display_name": "Python 3",
   "language": "python",
   "name": "python3"
  },
  "language_info": {
   "codemirror_mode": {
    "name": "ipython",
    "version": 3
   },
   "file_extension": ".py",
   "mimetype": "text/x-python",
   "name": "python",
   "nbconvert_exporter": "python",
   "pygments_lexer": "ipython3",
   "version": "3.8.5"
  }
 },
 "nbformat": 4,
 "nbformat_minor": 2
}
