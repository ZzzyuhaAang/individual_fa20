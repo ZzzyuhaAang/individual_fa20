{
 "cells": [
  {
   "cell_type": "markdown",
   "metadata": {},
   "source": [
    "# COGS 108 - Project Proposal"
   ]
  },
  {
   "cell_type": "markdown",
   "metadata": {},
   "source": [
    "# Names & GitHub ID\n",
    "\n",
    "- Name: Yuhang Zhao\n",
    "- GitHub Username: ZzzyuhaAang"
   ]
  },
  {
   "cell_type": "markdown",
   "metadata": {},
   "source": [
    "# Research Question"
   ]
  },
  {
   "cell_type": "markdown",
   "metadata": {},
   "source": [
    "Does having special pet parks with more pet facilities help get more visitors?"
   ]
  },
  {
   "cell_type": "markdown",
   "metadata": {},
   "source": [
    "## Background and Prior Work"
   ]
  },
  {
   "cell_type": "markdown",
   "metadata": {},
   "source": [
    "Nowadays, city park is a great place to hang out for citizens in spare time. A lot of People like to spend some time getting close to the naturein parks with friends and families. There are some beautiful parks in San Diego. For some of them, pets are not allowed to enter, which means there are no pet facilities in those park. However, from the survey about pets population in San Diego, there is still a great amount of people who owns a dog or other kind of pets in San Diego. Nearly half of the families own a pet at home. They also need a place to walk their pets. If there are some special parks with pets facilities, it will be more attractive for those people to go to parks. Therefore, I want to know if more pet facilities in parks attract more visitors in San Diego.\n",
    "\n",
    "There are some exsiting projects around this topic:\n",
    "In the report, \"Dog walkers’ vs. other park visitors’ perceptions\", the thoughts of ordinary visitors and of those pets owners are compared. This report indicates that some of those facilities in parks are non-useable.<br>\n",
    "Also, in \"A tail of tails: The place of dog parks in the urban imaginary\", authors use Kansas city as an example to explore the relationship between dog parks and other ubran areas.\n",
    "\n",
    "\n",
    "\n",
    "\n",
    "\n",
    "References (include links):\n",
    "- 1)Dog walkers’ vs. other park visitors’ perceptions: The importance of planning sustainable urban parks in Bucharest, Romania.<br>https://doi.org/10.1016/j.landurbplan.2011.06.002\n",
    "- 2)A tail of tails: The place of dog parks in the urban imaginary.<br>https://doi.org/10.1016/j.geoforum.2012.08.001\n",
    "- 3)San Diego County Survey and analysis of the pet population.<br>http://www.theanimalcouncil.com/files/NPA_1995SanDiego.pdf"
   ]
  },
  {
   "cell_type": "markdown",
   "metadata": {},
   "source": [
    "# Hypothesis\n"
   ]
  },
  {
   "cell_type": "markdown",
   "metadata": {},
   "source": [
    "Having special pet parks with more pet facilities help get more visitors.<br>\n",
    "For those people who have pets, they are more likely to go parks with pet facilities since those facilities make people feel being welcomed. At the same time, those facilities provide pet owners with effective way to deal with pet issue that may occur when walking their pets."
   ]
  },
  {
   "cell_type": "markdown",
   "metadata": {},
   "source": [
    "# Data"
   ]
  },
  {
   "cell_type": "markdown",
   "metadata": {},
   "source": [
    "Variable: The number of people who would like to go to a special park with pets facilities.\n",
    "\n",
    "Observations: 100 participants in total.(Half of them are people who owns a pet while the other half are people who does not own a pet)\n",
    "\n",
    "Method to collect data: I will design a questionaire to get those participants thought on the special pet park with more pet facilities.\n",
    "\n",
    "Method to organize data: I plan to use a bar plot to store those data.\n"
   ]
  },
  {
   "cell_type": "markdown",
   "metadata": {},
   "source": [
    "# Ethics & Privacy"
   ]
  },
  {
   "cell_type": "markdown",
   "metadata": {},
   "source": [
    "For the questionaires I used in my data collecting, there may be some issues about it. Since my participants are randomly selected. It is really hard to come across 50 people who owns a pet and who is willing to take the questionaire. Some people may be reluctant to do the questionaire due to privacy concernes.<br>\n",
    "Plus, there may be some potentials bias since the result from the questionaires are subjective. Participants answer question with their own pespectives.<br>\n",
    "For those issues I bring up, I plan to try online questionaires instead of paper questionaires. This questionaire will at first ask participants if they own a pet and then keep collecting answer till getting enough replies I need.<br>\n",
    "This online questionaire are totally free for people to take. It only take voluntary participants. People decide to take it or not by themselves."
   ]
  }
 ],
 "metadata": {
  "kernelspec": {
   "display_name": "Python 3",
   "language": "python",
   "name": "python3"
  },
  "language_info": {
   "codemirror_mode": {
    "name": "ipython",
    "version": 3
   },
   "file_extension": ".py",
   "mimetype": "text/x-python",
   "name": "python",
   "nbconvert_exporter": "python",
   "pygments_lexer": "ipython3",
   "version": "3.8.5"
  }
 },
 "nbformat": 4,
 "nbformat_minor": 2
}
